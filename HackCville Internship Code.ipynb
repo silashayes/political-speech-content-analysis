{
 "cells": [
  {
   "cell_type": "code",
   "execution_count": 1,
   "metadata": {},
   "outputs": [],
   "source": [
    "###Import Libraries\n",
    "from datascience import *\n",
    "import numpy as np\n",
    "import pandas as pd\n",
    "import re"
   ]
  },
  {
   "cell_type": "code",
   "execution_count": 2,
   "metadata": {},
   "outputs": [],
   "source": [
    "###Functions Galore\n",
    "\n",
    "def word_separate(text):\n",
    "    \"\"\"Given a string, separate the words into a list, make them lowercase, and leave out punctuation.\"\"\"\n",
    "    return text.replace(\",\", \"\").replace(\".\", \"\").replace(\";\", \"\").replace(\"?\", \"\").replace(\"!\", \"\").replace(\":\", \"\").replace(\"(\", \"\").replace(\")\", \"\").replace(\"(inaudible)\", \"\").split(\" \")\n",
    "\n",
    "def capital_separate(li):\n",
    "    \"\"\"Given a list, separate any elements of that list that are two words, joined by a capital letter\n",
    "    that starts the second word: youOklahoma --> you, Oklahoma or PresidentThank --> President, Thank.\n",
    "    Then put those separated words in their proper place in the list.\"\"\"\n",
    "    split_word_list = []\n",
    "    for i in np.arange(len(li)):\n",
    "        word = li[i]\n",
    "        split_word = re.findall(\"[a-zA-Z][^A-Z]*\", word)\n",
    "        split_word_list.extend(split_word)\n",
    "    return split_word_list\n",
    "\n",
    "def lowercase(array):\n",
    "    \"\"\"Given a list, lowercase all of the elements within the list\"\"\"\n",
    "    lower_words = make_array()\n",
    "    for i in np.arange(len(array)):\n",
    "        lower_word = array.item(i).lower()\n",
    "        lower_words = np.append(lower_words, lower_word)\n",
    "    return lower_words\n",
    "\n",
    "def count_repetitions(array):\n",
    "    \"\"\"Given an array, count the number of elements that are the same, outputting an array with the number of times\n",
    "    the respective word is in the original list\"\"\"\n",
    "    counts = make_array()\n",
    "    li = array.tolist()\n",
    "    for i in np.arange(len(array)):\n",
    "        count = li.count(li[i])\n",
    "        counts = np.append(counts, count)\n",
    "    return counts\n",
    "\n",
    "def df_converter(df):\n",
    "    \"\"\"Given a dataframe with columns \"Word\" and \"Count\", output a numpy table with the same columns\"\"\"\n",
    "    return Table().with_columns(\"Word\", np.array(df[\"Word\"].values.tolist()), \"Count\", np.array(df[\"Count\"].values.tolist()))\n",
    "\n",
    "def remove_articles(table):\n",
    "    \"\"\"Given a numpy table with columns \"Word\" and \"Count\", remove any rows with \"Word\" == an article\"\"\"\n",
    "    return table.where(\"Word\", are.not_equal_to(\"a\")).where(\"Word\", are.not_equal_to(\"an\")).where(\"Word\", are.not_equal_to(\"the\"))\n",
    "\n",
    "def remove_conjunctions(table):\n",
    "    \"\"\"Given a numpy table with columns \"Word\" and \"Count\", remove any rows with \"Word\" == a conjunction\"\"\"\n",
    "    return table.where(\"Word\", are.not_equal_to(\"for\")).where(\"Word\", are.not_equal_to(\"and\")).where(\"Word\", are.not_equal_to(\"nor\")).where(\"Word\", are.not_equal_to(\"but\")).where(\"Word\", are.not_equal_to(\"or\")).where(\"Word\", are.not_equal_to(\"yet\")).where(\"Word\", are.not_equal_to(\"so\"))\n",
    "\n",
    "def remove_demonstratives(table):\n",
    "    \"\"\"Given a numpy table with columns \"Word\" and \"Count\", remove any rows with \"Word\" == a demonstrative pronoun\"\"\"\n",
    "    return table.where(\"Word\", are.not_equal_to(\"this\")).where(\"Word\", are.not_equal_to(\"that\")).where(\"Word\", are.not_equal_to(\"these\")).where(\"Word\", are.not_equal_to(\"those\")).where(\"Word\", are.not_equal_to(\"such\"))\n",
    "\n",
    "def remove_prepositions(table):\n",
    "    \"\"\"Given a numpy table with columns \"Word\" and \"Count\", remove any rows with \"Word\" == a common preposition\"\"\"\n",
    "    return table.where(\"Word\", are.not_equal_to(\"to\")).where(\"Word\", are.not_equal_to(\"of\")).where(\"Word\", are.not_equal_to(\"in\")).where(\"Word\", are.not_equal_to(\"as\"))\n",
    "\n",
    "def remove_all(table):\n",
    "    \"\"\"Given a numpy table, run all above functions on the table\"\"\"\n",
    "    return remove_articles(remove_conjunctions(remove_prepositions(remove_demonstratives(table))))\n",
    "\n",
    "def remove_pronouns(table):\n",
    "    \"\"\"Given a numpy table with columns \"Word\" and \"Count\", remove any rows with \"Word\" == a pronoun\"\"\"\n",
    "    return table.where(\"Word\", are.not_equal_to(\"i\")).where(\"Word\", are.not_equal_to(\"me\")).where(\"Word\", are.not_equal_to(\"my\")).where(\"Word\", are.not_equal_to(\"mine\")).where(\"Word\", are.not_equal_to(\"you\")).where(\"Word\", are.not_equal_to(\"your\")).where(\"Word\", are.not_equal_to(\"yours\")).where(\"Word\", are.not_equal_to(\"he\")).where(\"Word\", are.not_equal_to(\"him\")).where(\"Word\", are.not_equal_to(\"his\")).where(\"Word\", are.not_equal_to(\"she\")).where(\"Word\", are.not_equal_to(\"her\")).where(\"Word\", are.not_equal_to(\"hers\")).where(\"Word\", are.not_equal_to(\"it\")).where(\"Word\", are.not_equal_to(\"its\")).where(\"Word\", are.not_equal_to(\"we\")).where(\"Word\", are.not_equal_to(\"our\")).where(\"Word\", are.not_equal_to(\"ours\")).where(\"Word\", are.not_equal_to(\"y'all\")).where(\"Word\", are.not_equal_to(\"ya'll\")).where(\"Word\", are.not_equal_to(\"they\")).where(\"Word\", are.not_equal_to(\"them\")).where(\"Word\", are.not_equal_to(\"their\"))\n",
    "\n",
    "def only_pronouns(table):\n",
    "    \"\"\"Given a numpy table with columns \"Word\" and \"Count\", keep any rows with \"Word\" == a pronoun\"\"\"\n",
    "    new_table = Table().with_columns(\"Word\", make_array(), \"Count\", make_array())\n",
    "    return new_table.append(table.where(\"Word\", are.equal_to(\"i\"))).append(table.where(\"Word\", are.equal_to(\"me\"))).append(table.where(\"Word\", are.equal_to(\"my\"))).append(table.where(\"Word\", are.equal_to(\"mine\"))).append(table.where(\"Word\", are.equal_to(\"you\"))).append(table.where(\"Word\", are.equal_to(\"your\"))).append(table.where(\"Word\", are.equal_to(\"yours\"))).append(table.where(\"Word\", are.equal_to(\"he\"))).append(table.where(\"Word\", are.equal_to(\"him\"))).append(table.where(\"Word\", are.equal_to(\"his\"))).append(table.where(\"Word\", are.equal_to(\"she\"))).append(table.where(\"Word\", are.equal_to(\"her\"))).append(table.where(\"Word\", are.equal_to(\"hers\"))).append(table.where(\"Word\", are.equal_to(\"it\"))).append(table.where(\"Word\", are.equal_to(\"its\"))).append(table.where(\"Word\", are.equal_to(\"we\"))).append(table.where(\"Word\", are.equal_to(\"our\"))).append(table.where(\"Word\", are.equal_to(\"ours\"))).append(table.where(\"Word\", are.equal_to(\"y'all\"))).append(table.where(\"Word\", are.equal_to(\"ya'll\"))).append(table.where(\"Word\", are.equal_to(\"they\"))).append(table.where(\"Word\", are.equal_to(\"them\"))).append(table.where(\"Word\", are.equal_to(\"their\")))\n",
    "\n",
    "def word_frequency(table):\n",
    "    \"\"\"Given a numpy table with columns \"Word\" and \"Count\", return the relative frequency of the counts\"\"\"\n",
    "    sum_total = np.sum(table.column(1).astype(np.float))\n",
    "    frequency = make_array()\n",
    "    for i in np.arange(len(table.column(1))):\n",
    "        if table.column(1).astype(np.float).item(i) == 0:\n",
    "            frequency = np.append(frequency, 0)\n",
    "        else:\n",
    "            frequency = np.append(frequency, table.column(1).astype(np.float).item(i) / sum_total)\n",
    "    return table.with_column(\"Relative Frequency\", frequency)\n",
    "\n",
    "def frequency_difference(table1, table2):\n",
    "    \"\"\"Given two tables, calculate the difference in frequency between each of the words, outputting a table\"\"\"\n",
    "    table1_frequency = word_frequency(table1)\n",
    "    table2_frequency = word_frequency(table2).relabeled(\"Relative Frequency\", \"Relative Frequency 2\")\n",
    "    table1_data = {\"Word\": table1_frequency.column(0).tolist(), \"Count\": table1_frequency.column(1).tolist(), \"Relative Frequency\": table1_frequency.column(2).tolist()}\n",
    "    table1_df = pd.DataFrame(table1_data, columns = [\"Word\", \"Count\", \"Relative Frequency\"])\n",
    "    table2_data = {\"Word\": table2_frequency.column(0).tolist(), \"Count 2\": table2_frequency.column(1).tolist(), \"Relative Frequency 2\": table2_frequency.column(2).tolist()}\n",
    "    table2_df = pd.DataFrame(table2_data, columns = [\"Word\", \"Count 2\", \"Relative Frequency 2\"])\n",
    "    merged_df = pd.merge(table1_df, table2_df, on=\"Word\", how=\"outer\")\n",
    "    merged_table = Table().with_columns(\"Word\", np.array(merged_df[\"Word\"].values.tolist()), \"Count\", np.array(merged_df[\"Count\"].values.tolist()), \"Relative Frequency\", np.array(merged_df[\"Relative Frequency\"].values.tolist()), \"Count 2\", np.array(merged_df[\"Count 2\"].values.tolist()), \"Relative Frequency 2\", np.array(merged_df[\"Relative Frequency 2\"].values.tolist()))\n",
    "    frequency_table = merged_table.with_columns(\"Frequency Difference\", merged_table.column(\"Relative Frequency 2\") - merged_table.column(\"Relative Frequency\"), \"Frequency Percent Difference\", merged_table.column(\"Relative Frequency 2\") / merged_table.column(\"Relative Frequency\"))\n",
    "    return frequency_table\n"
   ]
  },
  {
   "cell_type": "code",
   "execution_count": 3,
   "metadata": {},
   "outputs": [
    {
     "name": "stdout",
     "output_type": "stream",
     "text": [
      "<class 'numpy.ndarray'>\n",
      "['the' 'civil' 'rights' ... 'our' 'troops' '']\n"
     ]
    }
   ],
   "source": [
    "###Clean Joe Biden Data\n",
    "#Convert table into one lowercase string\n",
    "biden_speech_table = Table.read_table(\"joe_biden_dnc_2020.csv\")\n",
    "biden_speech_string = \"\"\n",
    "for i in np.arange(biden_speech_table.num_rows):\n",
    "    biden_speech_string = biden_speech_string + biden_speech_table[0][i].lower() + \" \"\n",
    "biden_speech_string\n",
    "\n",
    "#Separate string into array of words\n",
    "biden_speech_array = np.array(word_separate(biden_speech_string))\n",
    "\n",
    "#Check\n",
    "print(type(biden_speech_array))\n",
    "print(biden_speech_array)"
   ]
  },
  {
   "cell_type": "code",
   "execution_count": 4,
   "metadata": {},
   "outputs": [
    {
     "name": "stdout",
     "output_type": "stream",
     "text": [
      "<class 'numpy.ndarray'>\n",
      "['thank' 'you' 'very' ... 'you' 'very' 'much']\n"
     ]
    }
   ],
   "source": [
    "###Clean Donald Trump RNC Data\n",
    "trump_file1 = open(\"donald_trump_first_speech.txt\")\n",
    "trump_speech1_string = trump_file1.read()\n",
    "trump_file1.close()\n",
    "\n",
    "trump_file2 = open(\"donald_trump_second_speech.txt\")\n",
    "trump_speech2_string = trump_file2.read()\n",
    "trump_file2.close()\n",
    "\n",
    "#Separate strings into a single array of words\n",
    "trump_speech_string = trump_speech1_string + trump_speech2_string\n",
    "trump_speech_dirty = word_separate(trump_speech_string)\n",
    "\n",
    "#Clean array of joint words like youOklahoma\n",
    "trump_speech_cleaned = np.array(capital_separate(trump_speech_dirty))\n",
    "\n",
    "#Lowercase all strings\n",
    "trump_speech_array = lowercase(trump_speech_cleaned)\n",
    "\n",
    "#Check\n",
    "print(type(trump_speech_array))\n",
    "print(trump_speech_array)"
   ]
  },
  {
   "cell_type": "code",
   "execution_count": 5,
   "metadata": {},
   "outputs": [
    {
     "name": "stdout",
     "output_type": "stream",
     "text": [
      "<class 'numpy.ndarray'>\n",
      "['i' 'fully' 'understand' ... 'president' 'thank' 'you']\n"
     ]
    }
   ],
   "source": [
    "###Clean GOP Debate 2016 Data\n",
    "trump_debates_lines = []\n",
    "debate_file = open(\"gop_debate_all.txt\")\n",
    "for line in debate_file:\n",
    "    if 'TRUMP:' in line:\n",
    "        trump_debates_lines.append(line)\n",
    "debate_file.close()\n",
    "\n",
    "#Convert string of lines into one string, cleaning lines and speaker signifier\n",
    "debates_string = \"\"\n",
    "for i in np.arange(len(trump_debates_lines)):\n",
    "    debates_string = debates_string + trump_debates_lines[i]\n",
    "trump_debates_string = debates_string.replace(\"TRUMP: \", \"\").replace(\"\\n\", \"\")\n",
    "\n",
    "#Convert string into array\n",
    "trump_debates_array_dirty = word_separate(trump_debates_string)\n",
    "trump_debates_array_clean = np.array(capital_separate(trump_debates_array_dirty))\n",
    "\n",
    "#Lowercase array\n",
    "trump_debates_array = lowercase(trump_debates_array_clean)\n",
    "\n",
    "#Check\n",
    "print(type(trump_debates_array))\n",
    "print(trump_debates_array)"
   ]
  },
  {
   "cell_type": "code",
   "execution_count": 6,
   "metadata": {},
   "outputs": [],
   "source": [
    "###Calculate count of words and put them in table form\n",
    "#Biden\n",
    "biden_counts = count_repetitions(biden_speech_array)\n",
    "biden_words = {\"Word\": biden_speech_array.tolist(), \"Count\": biden_counts.tolist()}\n",
    "biden_df = pd.DataFrame(biden_words, columns = [\"Word\", \"Count\"])\n",
    "biden_table = biden_df.drop_duplicates()\n",
    "biden = df_converter(biden_table)\n",
    "\n",
    "#Trump Speeches\n",
    "trump_speech_counts = count_repetitions(trump_speech_array)\n",
    "trump_speech_words = {\"Word\": trump_speech_array.tolist(), \"Count\": trump_speech_counts.tolist()}\n",
    "trump_speech_df = pd.DataFrame(trump_speech_words, columns = [\"Word\", \"Count\"])\n",
    "trump_speech_table = trump_speech_df.drop_duplicates()\n",
    "trump_speech = df_converter(trump_speech_table)\n",
    "\n",
    "#Trump Debates\n",
    "trump_debates_counts = count_repetitions(trump_debates_array)\n",
    "trump_debates_words = {\"Word\": trump_debates_array.tolist(), \"Count\": trump_debates_counts.tolist()}\n",
    "trump_debates_df = pd.DataFrame(trump_debates_words, columns = [\"Word\", \"Count\"])\n",
    "trump_debates_table = trump_debates_df.drop_duplicates()\n",
    "trump_debates = df_converter(trump_debates_table)"
   ]
  },
  {
   "cell_type": "code",
   "execution_count": 7,
   "metadata": {},
   "outputs": [
    {
     "data": {
      "text/html": [
       "<table border=\"1\" class=\"dataframe\">\n",
       "    <thead>\n",
       "        <tr>\n",
       "            <th>Word</th> <th>Count</th>\n",
       "        </tr>\n",
       "    </thead>\n",
       "    <tbody>\n",
       "        <tr>\n",
       "            <td>the     </td> <td>152  </td>\n",
       "        </tr>\n",
       "        <tr>\n",
       "            <td>civil   </td> <td>1    </td>\n",
       "        </tr>\n",
       "        <tr>\n",
       "            <td>rights  </td> <td>3    </td>\n",
       "        </tr>\n",
       "        <tr>\n",
       "            <td>movement</td> <td>1    </td>\n",
       "        </tr>\n",
       "        <tr>\n",
       "            <td>left    </td> <td>4    </td>\n",
       "        </tr>\n",
       "    </tbody>\n",
       "</table>\n",
       "<p>... (969 rows omitted)</p>"
      ],
      "text/plain": [
       "<IPython.core.display.HTML object>"
      ]
     },
     "metadata": {},
     "output_type": "display_data"
    },
    {
     "name": "stdout",
     "output_type": "stream",
     "text": [
      "None\n"
     ]
    },
    {
     "data": {
      "text/html": [
       "<table border=\"1\" class=\"dataframe\">\n",
       "    <thead>\n",
       "        <tr>\n",
       "            <th>Word</th> <th>Count</th>\n",
       "        </tr>\n",
       "    </thead>\n",
       "    <tbody>\n",
       "        <tr>\n",
       "            <td>thank   </td> <td>52   </td>\n",
       "        </tr>\n",
       "        <tr>\n",
       "            <td>you     </td> <td>209  </td>\n",
       "        </tr>\n",
       "        <tr>\n",
       "            <td>very    </td> <td>105  </td>\n",
       "        </tr>\n",
       "        <tr>\n",
       "            <td>much    </td> <td>32   </td>\n",
       "        </tr>\n",
       "        <tr>\n",
       "            <td>oklahoma</td> <td>3    </td>\n",
       "        </tr>\n",
       "    </tbody>\n",
       "</table>\n",
       "<p>... (2454 rows omitted)</p>"
      ],
      "text/plain": [
       "<IPython.core.display.HTML object>"
      ]
     },
     "metadata": {},
     "output_type": "display_data"
    },
    {
     "name": "stdout",
     "output_type": "stream",
     "text": [
      "None\n"
     ]
    },
    {
     "data": {
      "text/html": [
       "<table border=\"1\" class=\"dataframe\">\n",
       "    <thead>\n",
       "        <tr>\n",
       "            <th>Word</th> <th>Count</th>\n",
       "        </tr>\n",
       "    </thead>\n",
       "    <tbody>\n",
       "        <tr>\n",
       "            <td>i         </td> <td>675  </td>\n",
       "        </tr>\n",
       "        <tr>\n",
       "            <td>fully     </td> <td>3    </td>\n",
       "        </tr>\n",
       "        <tr>\n",
       "            <td>understand</td> <td>11   </td>\n",
       "        </tr>\n",
       "        <tr>\n",
       "            <td>cannot    </td> <td>6    </td>\n",
       "        </tr>\n",
       "        <tr>\n",
       "            <td>say       </td> <td>75   </td>\n",
       "        </tr>\n",
       "    </tbody>\n",
       "</table>\n",
       "<p>... (1780 rows omitted)</p>"
      ],
      "text/plain": [
       "<IPython.core.display.HTML object>"
      ]
     },
     "metadata": {},
     "output_type": "display_data"
    },
    {
     "name": "stdout",
     "output_type": "stream",
     "text": [
      "None\n"
     ]
    },
    {
     "data": {
      "text/html": [
       "<table border=\"1\" class=\"dataframe\">\n",
       "    <thead>\n",
       "        <tr>\n",
       "            <th>Word</th> <th>Count</th>\n",
       "        </tr>\n",
       "    </thead>\n",
       "    <tbody>\n",
       "        <tr>\n",
       "            <td>me  </td> <td>11   </td>\n",
       "        </tr>\n",
       "    </tbody>\n",
       "</table>"
      ],
      "text/plain": [
       "Word | Count\n",
       "me   | 11"
      ]
     },
     "execution_count": 7,
     "metadata": {},
     "output_type": "execute_result"
    }
   ],
   "source": [
    "###Check\n",
    "print(biden.show(5))\n",
    "print(trump_speech.show(5))\n",
    "print(trump_debates.show(5))\n",
    "biden.where(\"Word\", are.equal_to(\"me\"))"
   ]
  },
  {
   "cell_type": "code",
   "execution_count": 8,
   "metadata": {},
   "outputs": [
    {
     "data": {
      "text/html": [
       "<table border=\"1\" class=\"dataframe\">\n",
       "    <thead>\n",
       "        <tr>\n",
       "            <th>Word</th> <th>Count</th> <th>Relative Frequency</th> <th>Count 2</th> <th>Relative Frequency 2</th> <th>Frequency Difference</th> <th>Frequency Percent Difference</th>\n",
       "        </tr>\n",
       "    </thead>\n",
       "    <tbody>\n",
       "        <tr>\n",
       "            <td>she </td> <td>7    </td> <td>0.024911          </td> <td>7      </td> <td>0.00406032          </td> <td>-0.0208507          </td> <td>0.162993                    </td>\n",
       "        </tr>\n",
       "        <tr>\n",
       "            <td>ours</td> <td>1    </td> <td>0.00355872        </td> <td>1      </td> <td>0.000580046         </td> <td>-0.00297867         </td> <td>0.162993                    </td>\n",
       "        </tr>\n",
       "        <tr>\n",
       "            <td>her </td> <td>5    </td> <td>0.0177936         </td> <td>6      </td> <td>0.00348028          </td> <td>-0.0143133          </td> <td>0.195592                    </td>\n",
       "        </tr>\n",
       "        <tr>\n",
       "            <td>its </td> <td>3    </td> <td>0.0106762         </td> <td>6      </td> <td>0.00348028          </td> <td>-0.00719588         </td> <td>0.325986                    </td>\n",
       "        </tr>\n",
       "        <tr>\n",
       "            <td>my  </td> <td>14   </td> <td>0.0498221         </td> <td>30     </td> <td>0.0174014           </td> <td>-0.0324207          </td> <td>0.349271                    </td>\n",
       "        </tr>\n",
       "    </tbody>\n",
       "</table>\n",
       "<p>... (13 rows omitted)</p>"
      ],
      "text/plain": [
       "<IPython.core.display.HTML object>"
      ]
     },
     "metadata": {},
     "output_type": "display_data"
    },
    {
     "data": {
      "text/html": [
       "<table border=\"1\" class=\"dataframe\">\n",
       "    <thead>\n",
       "        <tr>\n",
       "            <th>Word</th> <th>Count</th> <th>Relative Frequency</th> <th>Count 2</th> <th>Relative Frequency 2</th> <th>Frequency Difference</th> <th>Frequency Percent Difference</th>\n",
       "        </tr>\n",
       "    </thead>\n",
       "    <tbody>\n",
       "        <tr>\n",
       "            <td>joe       </td> <td>31   </td> <td>0.00293283        </td> <td>1      </td> <td>8.89601e-05         </td> <td>-0.00284387         </td> <td>0.0303325                   </td>\n",
       "        </tr>\n",
       "        <tr>\n",
       "            <td>history   </td> <td>25   </td> <td>0.00236518        </td> <td>1      </td> <td>8.89601e-05         </td> <td>-0.00227622         </td> <td>0.0376123                   </td>\n",
       "        </tr>\n",
       "        <tr>\n",
       "            <td>incredible</td> <td>19   </td> <td>0.00179754        </td> <td>1      </td> <td>8.89601e-05         </td> <td>-0.00170858         </td> <td>0.0494899                   </td>\n",
       "        </tr>\n",
       "        <tr>\n",
       "            <td>god       </td> <td>14   </td> <td>0.0013245         </td> <td>1      </td> <td>8.89601e-05         </td> <td>-0.00123554         </td> <td>0.0671648                   </td>\n",
       "        </tr>\n",
       "        <tr>\n",
       "            <td>america   </td> <td>41   </td> <td>0.0038789         </td> <td>3      </td> <td>0.00026688          </td> <td>-0.00361202         </td> <td>0.068803                    </td>\n",
       "        </tr>\n",
       "    </tbody>\n",
       "</table>\n",
       "<p>... (3238 rows omitted)</p>"
      ],
      "text/plain": [
       "<IPython.core.display.HTML object>"
      ]
     },
     "metadata": {},
     "output_type": "display_data"
    },
    {
     "data": {
      "text/html": [
       "<table border=\"1\" class=\"dataframe\">\n",
       "    <thead>\n",
       "        <tr>\n",
       "            <th>Word</th> <th>Count</th> <th>Relative Frequency</th> <th>Count 2</th> <th>Relative Frequency 2</th> <th>Frequency Difference</th> <th>Frequency Percent Difference</th>\n",
       "        </tr>\n",
       "    </thead>\n",
       "    <tbody>\n",
       "        <tr>\n",
       "            <td>joe       </td> <td>31   </td> <td>0.00200013        </td> <td>1      </td> <td>6.04924e-05         </td> <td>-0.00193964         </td> <td>0.0302443                   </td>\n",
       "        </tr>\n",
       "        <tr>\n",
       "            <td>history   </td> <td>25   </td> <td>0.00161301        </td> <td>1      </td> <td>6.04924e-05         </td> <td>-0.00155251         </td> <td>0.0375029                   </td>\n",
       "        </tr>\n",
       "        <tr>\n",
       "            <td>incredible</td> <td>19   </td> <td>0.00122589        </td> <td>1      </td> <td>6.04924e-05         </td> <td>-0.00116539         </td> <td>0.0493459                   </td>\n",
       "        </tr>\n",
       "        <tr>\n",
       "            <td>god       </td> <td>14   </td> <td>0.000903284       </td> <td>1      </td> <td>6.04924e-05         </td> <td>-0.000842792        </td> <td>0.0669694                   </td>\n",
       "        </tr>\n",
       "        <tr>\n",
       "            <td>america   </td> <td>41   </td> <td>0.00264533        </td> <td>3      </td> <td>0.000181477         </td> <td>-0.00246385         </td> <td>0.0686028                   </td>\n",
       "        </tr>\n",
       "    </tbody>\n",
       "</table>\n",
       "<p>... (3276 rows omitted)</p>"
      ],
      "text/plain": [
       "<IPython.core.display.HTML object>"
      ]
     },
     "metadata": {},
     "output_type": "display_data"
    },
    {
     "data": {
      "text/html": [
       "<table border=\"1\" class=\"dataframe\">\n",
       "    <thead>\n",
       "        <tr>\n",
       "            <th>Word</th> <th>Count</th> <th>Relative Frequency</th> <th>Count 2</th> <th>Relative Frequency 2</th> <th>Frequency Difference</th> <th>Frequency Percent Difference</th>\n",
       "        </tr>\n",
       "    </thead>\n",
       "    <tbody>\n",
       "        <tr>\n",
       "            <td>its  </td> <td>6    </td> <td>0.00348028        </td> <td>2      </td> <td>0.000903342         </td> <td>-0.00257694         </td> <td>0.25956                     </td>\n",
       "        </tr>\n",
       "        <tr>\n",
       "            <td>our  </td> <td>141  </td> <td>0.0817865         </td> <td>59     </td> <td>0.0266486           </td> <td>-0.0551379          </td> <td>0.325831                    </td>\n",
       "        </tr>\n",
       "        <tr>\n",
       "            <td>their</td> <td>53   </td> <td>0.0307425         </td> <td>27     </td> <td>0.0121951           </td> <td>-0.0185473          </td> <td>0.396687                    </td>\n",
       "        </tr>\n",
       "        <tr>\n",
       "            <td>she  </td> <td>7    </td> <td>0.00406032        </td> <td>4      </td> <td>0.00180668          </td> <td>-0.00225364         </td> <td>0.444961                    </td>\n",
       "        </tr>\n",
       "        <tr>\n",
       "            <td>them </td> <td>71   </td> <td>0.0411833         </td> <td>44     </td> <td>0.0198735           </td> <td>-0.0213098          </td> <td>0.482563                    </td>\n",
       "        </tr>\n",
       "    </tbody>\n",
       "</table>\n",
       "<p>... (15 rows omitted)</p>"
      ],
      "text/plain": [
       "<IPython.core.display.HTML object>"
      ]
     },
     "metadata": {},
     "output_type": "display_data"
    }
   ],
   "source": [
    "###Analysis Tables\n",
    "#Biden vs Trump Convention Pronouns\n",
    "convention_pronouns = frequency_difference(only_pronouns(biden), only_pronouns(trump_speech))\n",
    "convention_pronouns.sort(\"Frequency Percent Difference\", descending = False).show(5)\n",
    "\n",
    "#Trump at RNC vs Trump Debates without pronouns, articles, etc.\n",
    "speech_debates_words_cut = frequency_difference(remove_all(remove_pronouns(trump_speech)), remove_all(remove_pronouns(trump_debates)))\n",
    "speech_debates_words_cut.sort(\"Frequency Percent Difference\", descending = False).show(5)\n",
    "\n",
    "#Trump at RNC vs Trump Debates\n",
    "speech_debates_words = frequency_difference(trump_speech, trump_debates)\n",
    "speech_debates_words.sort(\"Frequency Percent Difference\", descending = False).show(5)\n",
    "\n",
    "#Trump Pronouns at RNC vs Trump Pronouns at Debates\n",
    "speech_debates_pronouns = frequency_difference(only_pronouns(trump_speech), only_pronouns(trump_debates))\n",
    "speech_debates_pronouns.sort(\"Frequency Percent Difference\", descending = False).show(5)"
   ]
  },
  {
   "cell_type": "code",
   "execution_count": 9,
   "metadata": {},
   "outputs": [],
   "source": [
    "###Export Tables to csv\n",
    "convention_pronouns.to_df().to_csv('Convention Pronouns, Biden v Trump.csv', index=False)\n",
    "speech_debates_words_cut.to_df().to_csv('Words Removed, Convention v Debates.csv', index=False)\n",
    "speech_debates_words.to_df().to_csv('All Words, Convention v Debates.csv', index=False)\n",
    "speech_debates_pronouns.to_df().to_csv('Pronouns, Convention v Debates.csv', index=False)"
   ]
  },
  {
   "cell_type": "code",
   "execution_count": null,
   "metadata": {},
   "outputs": [],
   "source": []
  }
 ],
 "metadata": {
  "kernelspec": {
   "display_name": "Python 3 (ipykernel)",
   "language": "python",
   "name": "python3"
  },
  "language_info": {
   "codemirror_mode": {
    "name": "ipython",
    "version": 3
   },
   "file_extension": ".py",
   "mimetype": "text/x-python",
   "name": "python",
   "nbconvert_exporter": "python",
   "pygments_lexer": "ipython3",
   "version": "3.8.8"
  }
 },
 "nbformat": 4,
 "nbformat_minor": 4
}
